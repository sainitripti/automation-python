{
 "cells": [
  {
   "cell_type": "code",
   "execution_count": 52,
   "metadata": {
    "collapsed": true
   },
   "outputs": [],
   "source": [
    "from selenium import webdriver\n",
    "import os\n",
    "import time\n",
    "from selenium.webdriver.common.keys import Keys\n",
    "from selenium.webdriver.common.action_chains import ActionChains\n",
    "import selenium.webdriver.support.ui as ui\n",
    "import selenium.webdriver as webdriver\n",
    "from selenium.webdriver.chrome.options import Options\n"
   ]
  },
  {
   "cell_type": "code",
   "execution_count": 58,
   "metadata": {
    "collapsed": true
   },
   "outputs": [],
   "source": [
    "chrome_options = webdriver.ChromeOptions()\n",
    "prefs = {\"profile.default_content_setting_values.notifications\" : 2}\n",
    "chrome_options.add_experimental_option(\"prefs\",prefs)\n",
    "driver=webdriver.Chrome(executable_path=r'C:\\Users\\akshi\\AnacondaProjects\\ChromeDriver',chrome_options=chrome_options)\n",
    "#newdriver = webdriver.Chrome(chrome_options=chrome_options)\n",
    "driver.get('https://www.facebook.com/')"
   ]
  },
  {
   "cell_type": "code",
   "execution_count": 59,
   "metadata": {},
   "outputs": [],
   "source": [
    "time.sleep(5)\n",
    "emailid=driver.find_element_by_css_selector(\"input[type='email']\")\n",
    "emailid.click()\n",
    "emailid.send_keys(\"akshitaguptaapeejay@gmail.com\")"
   ]
  },
  {
   "cell_type": "code",
   "execution_count": 60,
   "metadata": {},
   "outputs": [],
   "source": [
    "password=driver.find_element_by_css_selector(\"input[type='password']\")\n",
    "password.click()\n",
    "#password.send_keys(\"abcdefg\")\n",
    "login=driver.find_element_by_css_selector(\"input[value='Log In']\")\n",
    "login.click()"
   ]
  },
  {
   "cell_type": "code",
   "execution_count": 61,
   "metadata": {},
   "outputs": [],
   "source": [
    "time.sleep(5)\n",
    "profile=driver.find_element_by_xpath(\"//*[@id=\\\"u_0_a\\\"]/div[1]/div[1]/div/a/span/span\")\n",
    "profile.click()"
   ]
  },
  {
   "cell_type": "code",
   "execution_count": 62,
   "metadata": {
    "collapsed": true
   },
   "outputs": [],
   "source": [
    "friends=driver.find_element_by_css_selector(\"a[data-tab-key='friends']\")\n",
    "friends.click()"
   ]
  },
  {
   "cell_type": "code",
   "execution_count": 63,
   "metadata": {},
   "outputs": [],
   "source": [
    "selectfriends=driver.find_element_by_xpath(\"//div[@class=\\\"fsl fwb fcb\\\"]/a\")\n",
    "selectfriends.click()"
   ]
  }
 ],
 "metadata": {
  "kernelspec": {
   "display_name": "Python 3",
   "language": "python",
   "name": "python3"
  },
  "language_info": {
   "codemirror_mode": {
    "name": "ipython",
    "version": 3
   },
   "file_extension": ".py",
   "mimetype": "text/x-python",
   "name": "python",
   "nbconvert_exporter": "python",
   "pygments_lexer": "ipython3",
   "version": "3.6.1"
  }
 },
 "nbformat": 4,
 "nbformat_minor": 2
}
