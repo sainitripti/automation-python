{
 "cells": [
  {
   "cell_type": "code",
   "execution_count": 17,
   "metadata": {
    "collapsed": true
   },
   "outputs": [],
   "source": [
    "from selenium import webdriver\n",
    "import os\n",
    "import time\n",
    "from selenium.webdriver.common.keys import Keys\n",
    "from selenium.webdriver.common.action_chains import ActionChains\n",
    "import selenium.webdriver.support.ui as ui\n",
    "import selenium.webdriver as webdriver\n"
   ]
  },
  {
   "cell_type": "code",
   "execution_count": 18,
   "metadata": {
    "collapsed": true
   },
   "outputs": [],
   "source": [
    "driver=webdriver.Chrome(executable_path=r'C:\\Users\\akshi\\AnacondaProjects\\ChromeDriver')\n",
    "driver.get('https://web.whatsapp.com')"
   ]
  },
  {
   "cell_type": "markdown",
   "metadata": {},
   "source": []
  },
  {
   "cell_type": "code",
   "execution_count": 27,
   "metadata": {
    "collapsed": true
   },
   "outputs": [],
   "source": [
    "inputbox=driver.find_element_by_id(\"input-chatlist-search\")\n",
    "inputbox.click()\n",
    "inputbox.send_keys(name)\n",
    "time.sleep(1)\n",
    "mychat=driver.find_element_by_css_selector(\"span[title='\"MSP SESSION 2018\"']\")\n",
    "mychat.click()\n",
    "chatbox=driver.find_element_by_class_name(\"pluggable-input-body\")\n",
    "chatbox.click()\n",
    "chatbox.send_keys(\"hey\")\n",
    "sendButton=driver.find_element_by_css_selector(\"span[data-icon='send']\")\n",
    "sendButton.click()\n",
    "time.sleep(1)"
   ]
  },
  {
   "cell_type": "code",
   "execution_count": 21,
   "metadata": {},
   "outputs": [],
   "source": [
    "inputbox=driver.find_element_by_id(\"input-chatlist-search\")\n",
    "inputbox.click()\n",
    "inputbox.send_keys(\"MSP SESSION 2018\")\n",
    "time.sleep(1)\n",
    "mychat=driver.find_element_by_css_selector(\"span[title='\"MSP SESSION 2018\"']\")\n",
    "mychat.click()"
   ]
  },
  {
   "cell_type": "code",
   "execution_count": 22,
   "metadata": {
    "collapsed": true
   },
   "outputs": [],
   "source": [
    "chatbox=driver.find_element_by_class_name(\"pluggable-input-body\")\n",
    "chatbox.click()"
   ]
  },
  {
   "cell_type": "code",
   "execution_count": 23,
   "metadata": {
    "collapsed": true
   },
   "outputs": [],
   "source": [
    "chatbox.send_keys(\"hey\")\n",
    "sendButton=driver.find_element_by_css_selector(\"span[data-icon='send']\")\n",
    "sendButton.click()\n",
    "time.sleep(1)"
   ]
  },
  {
   "cell_type": "code",
   "execution_count": 32,
   "metadata": {},
   "outputs": [],
   "source": [
    "def sendmessage(name):\n",
    "    inputbox=driver.find_element_by_id(\"input-chatlist-search\")\n",
    "    inputbox.click()\n",
    "    inputbox.send_keys(name)\n",
    "    time.sleep(1)\n",
    "    mychat=driver.find_element_by_css_selector(\"span[title='\"+name+\"']\")\n",
    "    mychat.click()\n",
    "    chatbox=driver.find_element_by_class_name(\"pluggable-input-body\")\n",
    "    chatbox.click()\n",
    "    chatbox.send_keys(\"Automation is cool\")\n",
    "    sendButton=driver.find_element_by_css_selector(\"span[data-icon='send']\")\n",
    "    sendButton.click()\n",
    "    time.sleep(1)"
   ]
  },
  {
   "cell_type": "code",
   "execution_count": 33,
   "metadata": {},
   "outputs": [],
   "source": [
    "a=[\"Jahnvi New\",\"Ronak(Chep)\"]\n",
    "for name in a:\n",
    "    sendmessage(name)"
   ]
  },
  {
   "cell_type": "code",
   "execution_count": 33,
   "metadata": {
    "collapsed": true
   },
   "outputs": [],
   "source": []
  },
  {
   "cell_type": "code",
   "execution_count": null,
   "metadata": {
    "collapsed": true
   },
   "outputs": [],
   "source": []
  }
 ],
 "metadata": {
  "kernelspec": {
   "display_name": "Python 3",
   "language": "python",
   "name": "python3"
  },
  "language_info": {
   "codemirror_mode": {
    "name": "ipython",
    "version": 3
   },
   "file_extension": ".py",
   "mimetype": "text/x-python",
   "name": "python",
   "nbconvert_exporter": "python",
   "pygments_lexer": "ipython3",
   "version": "3.6.1"
  }
 },
 "nbformat": 4,
 "nbformat_minor": 2
}
